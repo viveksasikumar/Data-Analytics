{
 "cells": [
  {
   "cell_type": "code",
   "execution_count": 282,
   "metadata": {},
   "outputs": [],
   "source": [
    "import numpy as np\n",
    "from scipy.optimize import minimize"
   ]
  },
  {
   "cell_type": "code",
   "execution_count": 283,
   "metadata": {},
   "outputs": [
    {
     "name": "stdout",
     "output_type": "stream",
     "text": [
      "Enter number of items: 8\n"
     ]
    }
   ],
   "source": [
    "num = input(\"Enter number of items: \")"
   ]
  },
  {
   "cell_type": "code",
   "execution_count": 284,
   "metadata": {},
   "outputs": [
    {
     "name": "stdout",
     "output_type": "stream",
     "text": [
      "Item 1 cost per unit: 1\n",
      "Item 1 production time(Hrs) per unit: 2\n",
      "Item 1 monthly demand: 3\n",
      "\n",
      "\n",
      "Item 2 cost per unit: 3\n",
      "Item 2 production time(Hrs) per unit: 2\n",
      "Item 2 monthly demand: 1\n",
      "\n",
      "\n",
      "Item 3 cost per unit: 2\n",
      "Item 3 production time(Hrs) per unit: 3\n",
      "Item 3 monthly demand: 4\n",
      "\n",
      "\n",
      "Item 4 cost per unit: 4\n",
      "Item 4 production time(Hrs) per unit: 3\n",
      "Item 4 monthly demand: 2\n",
      "\n",
      "\n",
      "Item 5 cost per unit: 3\n",
      "Item 5 production time(Hrs) per unit: 4\n",
      "Item 5 monthly demand: 5\n",
      "\n",
      "\n",
      "Item 6 cost per unit: 5\n",
      "Item 6 production time(Hrs) per unit: 4\n",
      "Item 6 monthly demand: 3\n",
      "\n",
      "\n",
      "Item 7 cost per unit: 4\n",
      "Item 7 production time(Hrs) per unit: 5\n",
      "Item 7 monthly demand: 6\n",
      "\n",
      "\n",
      "Item 8 cost per unit: 6\n",
      "Item 8 production time(Hrs) per unit: 5\n",
      "Item 8 monthly demand: 4\n",
      "\n",
      "\n"
     ]
    }
   ],
   "source": [
    "num = int(num)\n",
    "cost = np.zeros((1,num),dtype=float)\n",
    "time = np.zeros((1,num),dtype=float)\n",
    "demand = np.zeros((1,num),dtype=float)\n",
    "\n",
    "\n",
    "for i in range(num):\n",
    "    cost[0,i] = input('Item {} cost per unit: '.format(i+1))\n",
    "    time[0,i] = input('Item {} production time(Hrs) per unit: '.format(i+1))\n",
    "    demand[0,i] = input('Item {} monthly demand: '.format(i+1))\n",
    "    print('\\n')"
   ]
  },
  {
   "cell_type": "code",
   "execution_count": 285,
   "metadata": {},
   "outputs": [
    {
     "data": {
      "text/plain": [
       "1.0"
      ]
     },
     "execution_count": 285,
     "metadata": {},
     "output_type": "execute_result"
    }
   ],
   "source": [
    "demand[0,1]"
   ]
  },
  {
   "cell_type": "code",
   "execution_count": 286,
   "metadata": {},
   "outputs": [],
   "source": [
    "#Objective function\n",
    "def objective(x):\n",
    "    obj = []\n",
    "    print(num)\n",
    "    for i in range(num):\n",
    "        obj = x[i]*cost[0,i]\n",
    "    return obj\n",
    "\n",
    "#Constraints\n",
    "def constraint(x):\n",
    "    tot = 250\n",
    "    for i in range(num):\n",
    "        tot = tot - x[i]*time[0,i]\n",
    "    return tot"
   ]
  },
  {
   "cell_type": "code",
   "execution_count": 287,
   "metadata": {},
   "outputs": [],
   "source": [
    "rule = []\n",
    "\n",
    "for i in range(num):\n",
    "    f = lambda x: x[i]-demand[0,i]\n",
    "    rule.append(f)"
   ]
  },
  {
   "cell_type": "code",
   "execution_count": 288,
   "metadata": {},
   "outputs": [
    {
     "data": {
      "text/plain": [
       "<function __main__.<lambda>>"
      ]
     },
     "execution_count": 288,
     "metadata": {},
     "output_type": "execute_result"
    }
   ],
   "source": [
    "rule[1]"
   ]
  },
  {
   "cell_type": "code",
   "execution_count": 296,
   "metadata": {},
   "outputs": [
    {
     "name": "stdout",
     "output_type": "stream",
     "text": [
      "8\n"
     ]
    },
    {
     "data": {
      "text/plain": [
       "600.0"
      ]
     },
     "execution_count": 296,
     "metadata": {},
     "output_type": "execute_result"
    }
   ],
   "source": [
    "x0 = [100 for i in range(num)]\n",
    "objective(x0)"
   ]
  },
  {
   "cell_type": "code",
   "execution_count": 305,
   "metadata": {},
   "outputs": [
    {
     "data": {
      "text/plain": [
       "[{'fun': <function __main__.<lambda>>, 'type': 'ineq'},\n",
       " {'fun': <function __main__.<lambda>>, 'type': 'ineq'},\n",
       " {'fun': <function __main__.<lambda>>, 'type': 'ineq'},\n",
       " {'fun': <function __main__.<lambda>>, 'type': 'ineq'},\n",
       " {'fun': <function __main__.<lambda>>, 'type': 'ineq'},\n",
       " {'fun': <function __main__.<lambda>>, 'type': 'ineq'},\n",
       " {'fun': <function __main__.<lambda>>, 'type': 'ineq'},\n",
       " {'fun': <function __main__.<lambda>>, 'type': 'ineq'},\n",
       " {'fun': <function __main__.constraint>, 'type': 'eq'}]"
      ]
     },
     "execution_count": 305,
     "metadata": {},
     "output_type": "execute_result"
    }
   ],
   "source": [
    "#Bounds\n",
    "b = (1.0,100.0)\n",
    "\n",
    "bnd = [b for i in range(num)]\n",
    "bnds = tuple(bnd)\n",
    "\n",
    "#Constraints\n",
    "con = {'type':'eq', 'fun': constraint} #Inequality function where multiplied values greater than or equal to 25\n",
    "cons = []\n",
    "for i in range(num):\n",
    "    cons.append({'type':'ineq', 'fun':rule[i]})\n",
    "    \n",
    "cons.append(con)\n",
    "cons"
   ]
  },
  {
   "cell_type": "code",
   "execution_count": 306,
   "metadata": {},
   "outputs": [
    {
     "data": {
      "text/plain": [
       "((1.0, 100.0),\n",
       " (1.0, 100.0),\n",
       " (1.0, 100.0),\n",
       " (1.0, 100.0),\n",
       " (1.0, 100.0),\n",
       " (1.0, 100.0),\n",
       " (1.0, 100.0),\n",
       " (1.0, 100.0))"
      ]
     },
     "execution_count": 306,
     "metadata": {},
     "output_type": "execute_result"
    }
   ],
   "source": [
    "bnds"
   ]
  },
  {
   "cell_type": "code",
   "execution_count": 307,
   "metadata": {},
   "outputs": [
    {
     "name": "stdout",
     "output_type": "stream",
     "text": [
      "8\n",
      "8\n",
      "8\n",
      "8\n",
      "8\n",
      "8\n",
      "8\n",
      "8\n",
      "8\n",
      "8\n",
      "8\n",
      "8\n",
      "8\n",
      "8\n",
      "8\n",
      "8\n",
      "8\n",
      "8\n",
      "8\n",
      "8\n"
     ]
    }
   ],
   "source": [
    "sol = minimize(objective, x0, method='SLSQP', bounds= bnds, constraints=cons)"
   ]
  },
  {
   "cell_type": "code",
   "execution_count": 308,
   "metadata": {},
   "outputs": [
    {
     "data": {
      "text/plain": [
       "     fun: 24.000000000061135\n",
       "     jac: array([0., 0., 0., 0., 0., 0., 0., 6.])\n",
       " message: 'Optimization terminated successfully.'\n",
       "    nfev: 20\n",
       "     nit: 2\n",
       "    njev: 2\n",
       "  status: 0\n",
       " success: True\n",
       "       x: array([39.76923077, 39.76923077,  9.65384615,  9.65384615,  1.        ,\n",
       "        1.        ,  1.        ,  4.        ])"
      ]
     },
     "execution_count": 308,
     "metadata": {},
     "output_type": "execute_result"
    }
   ],
   "source": [
    "sol"
   ]
  },
  {
   "cell_type": "code",
   "execution_count": 311,
   "metadata": {},
   "outputs": [
    {
     "data": {
      "text/plain": [
       "array([40., 40., 10., 10.,  1.,  1.,  1.,  4.])"
      ]
     },
     "execution_count": 311,
     "metadata": {},
     "output_type": "execute_result"
    }
   ],
   "source": [
    "sol.x.round()"
   ]
  },
  {
   "cell_type": "code",
   "execution_count": 312,
   "metadata": {},
   "outputs": [
    {
     "name": "stdout",
     "output_type": "stream",
     "text": [
      "250.0  Hrs &  253.0  Dollars\n"
     ]
    }
   ],
   "source": [
    "hours = list(time[0,:])\n",
    "cost1 = list(cost[0,:])\n",
    "tot = 0\n",
    "tcost = 0\n",
    "for i in range(num):\n",
    "        tot = tot + sol.x[i]*hours[i]\n",
    "        tcost = tcost + sol.x[i]*cost1[i]\n",
    "        \n",
    "        \n",
    "print(tot.round(),\" Hrs & \",tcost.round(),\" Dollars\")"
   ]
  },
  {
   "cell_type": "code",
   "execution_count": null,
   "metadata": {},
   "outputs": [],
   "source": []
  },
  {
   "cell_type": "code",
   "execution_count": null,
   "metadata": {},
   "outputs": [],
   "source": []
  }
 ],
 "metadata": {
  "kernelspec": {
   "display_name": "Python 3",
   "language": "python",
   "name": "python3"
  },
  "language_info": {
   "codemirror_mode": {
    "name": "ipython",
    "version": 3
   },
   "file_extension": ".py",
   "mimetype": "text/x-python",
   "name": "python",
   "nbconvert_exporter": "python",
   "pygments_lexer": "ipython3",
   "version": "3.6.4"
  }
 },
 "nbformat": 4,
 "nbformat_minor": 2
}
